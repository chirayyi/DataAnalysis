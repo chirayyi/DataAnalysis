{
 "cells": [
  {
   "cell_type": "markdown",
   "metadata": {},
   "source": [
    "# Police Killings in the U.S. Analysis"
   ]
  },
  {
   "cell_type": "code",
   "execution_count": 35,
   "metadata": {},
   "outputs": [],
   "source": [
    "import pandas as pd\n",
    "import matplotlib.pyplot as plt\n",
    "import numpy as np\n",
    "%matplotlib inline\n",
    "police_killings = pd.read_csv(\"police_killings.csv\", encoding = \"ISO-8859-1\")"
   ]
  },
  {
   "cell_type": "markdown",
   "metadata": {},
   "source": [
    "## Exploring the dataset"
   ]
  },
  {
   "cell_type": "code",
   "execution_count": 36,
   "metadata": {},
   "outputs": [
    {
     "data": {
      "text/plain": [
       "(467, 34)"
      ]
     },
     "execution_count": 36,
     "metadata": {},
     "output_type": "execute_result"
    }
   ],
   "source": [
    "# Whats the shape of the dataset?\n",
    "police_killings.shape"
   ]
  },
  {
   "cell_type": "code",
   "execution_count": 37,
   "metadata": {},
   "outputs": [
    {
     "data": {
      "text/plain": [
       "Index(['name', 'age', 'gender', 'raceethnicity', 'month', 'day', 'year', 'streetaddress', 'city', 'state', 'latitude', 'longitude', 'state_fp', 'county_fp', 'tract_ce', 'geo_id', 'county_id', 'namelsad', 'lawenforcementagency', 'cause', 'armed', 'pop', 'share_white', 'share_black', 'share_hispanic', 'p_income', 'h_income', 'county_income', 'comp_income', 'county_bucket', 'nat_bucket', 'pov', 'urate', 'college'], dtype='object')"
      ]
     },
     "execution_count": 37,
     "metadata": {},
     "output_type": "execute_result"
    }
   ],
   "source": [
    "# Have look at the columns\n",
    "police_killings.columns"
   ]
  },
  {
   "cell_type": "code",
   "execution_count": 38,
   "metadata": {},
   "outputs": [
    {
     "data": {
      "text/html": [
       "<div style=\"max-height:1000px;max-width:1500px;overflow:auto;\">\n",
       "<table border=\"1\" class=\"dataframe\">\n",
       "  <thead>\n",
       "    <tr style=\"text-align: right;\">\n",
       "      <th></th>\n",
       "      <th>name</th>\n",
       "      <th>age</th>\n",
       "      <th>gender</th>\n",
       "      <th>raceethnicity</th>\n",
       "      <th>month</th>\n",
       "      <th>day</th>\n",
       "      <th>year</th>\n",
       "      <th>streetaddress</th>\n",
       "      <th>city</th>\n",
       "      <th>state</th>\n",
       "      <th>...</th>\n",
       "      <th>share_hispanic</th>\n",
       "      <th>p_income</th>\n",
       "      <th>h_income</th>\n",
       "      <th>county_income</th>\n",
       "      <th>comp_income</th>\n",
       "      <th>county_bucket</th>\n",
       "      <th>nat_bucket</th>\n",
       "      <th>pov</th>\n",
       "      <th>urate</th>\n",
       "      <th>college</th>\n",
       "    </tr>\n",
       "  </thead>\n",
       "  <tbody>\n",
       "    <tr>\n",
       "      <th>0</th>\n",
       "      <td> A'donte Washington</td>\n",
       "      <td> 16</td>\n",
       "      <td> Male</td>\n",
       "      <td>           Black</td>\n",
       "      <td> February</td>\n",
       "      <td> 23</td>\n",
       "      <td> 2015</td>\n",
       "      <td>           Clearview Ln</td>\n",
       "      <td>    Millbrook</td>\n",
       "      <td> AL</td>\n",
       "      <td>...</td>\n",
       "      <td>  5.6</td>\n",
       "      <td> 28375</td>\n",
       "      <td> 51367</td>\n",
       "      <td> 54766</td>\n",
       "      <td> 0.937936</td>\n",
       "      <td> 3</td>\n",
       "      <td> 3</td>\n",
       "      <td> 14.1</td>\n",
       "      <td> 0.097686</td>\n",
       "      <td> 0.168510</td>\n",
       "    </tr>\n",
       "    <tr>\n",
       "      <th>1</th>\n",
       "      <td>     Aaron Rutledge</td>\n",
       "      <td> 27</td>\n",
       "      <td> Male</td>\n",
       "      <td>           White</td>\n",
       "      <td>    April</td>\n",
       "      <td>  2</td>\n",
       "      <td> 2015</td>\n",
       "      <td> 300 block Iris Park Dr</td>\n",
       "      <td>    Pineville</td>\n",
       "      <td> LA</td>\n",
       "      <td>...</td>\n",
       "      <td>  0.5</td>\n",
       "      <td> 14678</td>\n",
       "      <td> 27972</td>\n",
       "      <td> 40930</td>\n",
       "      <td> 0.683411</td>\n",
       "      <td> 2</td>\n",
       "      <td> 1</td>\n",
       "      <td> 28.8</td>\n",
       "      <td> 0.065724</td>\n",
       "      <td> 0.111402</td>\n",
       "    </tr>\n",
       "    <tr>\n",
       "      <th>2</th>\n",
       "      <td>        Aaron Siler</td>\n",
       "      <td> 26</td>\n",
       "      <td> Male</td>\n",
       "      <td>           White</td>\n",
       "      <td>    March</td>\n",
       "      <td> 14</td>\n",
       "      <td> 2015</td>\n",
       "      <td>   22nd Ave and 56th St</td>\n",
       "      <td>      Kenosha</td>\n",
       "      <td> WI</td>\n",
       "      <td>...</td>\n",
       "      <td> 16.8</td>\n",
       "      <td> 25286</td>\n",
       "      <td> 45365</td>\n",
       "      <td> 54930</td>\n",
       "      <td> 0.825869</td>\n",
       "      <td> 2</td>\n",
       "      <td> 3</td>\n",
       "      <td> 14.6</td>\n",
       "      <td> 0.166293</td>\n",
       "      <td> 0.147312</td>\n",
       "    </tr>\n",
       "    <tr>\n",
       "      <th>3</th>\n",
       "      <td>       Aaron Valdez</td>\n",
       "      <td> 25</td>\n",
       "      <td> Male</td>\n",
       "      <td> Hispanic/Latino</td>\n",
       "      <td>    March</td>\n",
       "      <td> 11</td>\n",
       "      <td> 2015</td>\n",
       "      <td>      3000 Seminole Ave</td>\n",
       "      <td>   South Gate</td>\n",
       "      <td> CA</td>\n",
       "      <td>...</td>\n",
       "      <td> 98.8</td>\n",
       "      <td> 17194</td>\n",
       "      <td> 48295</td>\n",
       "      <td> 55909</td>\n",
       "      <td> 0.863814</td>\n",
       "      <td> 3</td>\n",
       "      <td> 3</td>\n",
       "      <td> 11.7</td>\n",
       "      <td> 0.124827</td>\n",
       "      <td> 0.050133</td>\n",
       "    </tr>\n",
       "    <tr>\n",
       "      <th>4</th>\n",
       "      <td>       Adam Jovicic</td>\n",
       "      <td> 29</td>\n",
       "      <td> Male</td>\n",
       "      <td>           White</td>\n",
       "      <td>    March</td>\n",
       "      <td> 19</td>\n",
       "      <td> 2015</td>\n",
       "      <td>         364 Hiwood Ave</td>\n",
       "      <td> Munroe Falls</td>\n",
       "      <td> OH</td>\n",
       "      <td>...</td>\n",
       "      <td>  1.7</td>\n",
       "      <td> 33954</td>\n",
       "      <td> 68785</td>\n",
       "      <td> 49669</td>\n",
       "      <td> 1.384868</td>\n",
       "      <td> 5</td>\n",
       "      <td> 4</td>\n",
       "      <td>  1.9</td>\n",
       "      <td> 0.063550</td>\n",
       "      <td> 0.403954</td>\n",
       "    </tr>\n",
       "  </tbody>\n",
       "</table>\n",
       "<p>5 rows × 34 columns</p>\n",
       "</div>"
      ],
      "text/plain": [
       "                 name age gender    raceethnicity     month  day  year  \\\n",
       "0  A'donte Washington  16   Male            Black  February   23  2015   \n",
       "1      Aaron Rutledge  27   Male            White     April    2  2015   \n",
       "2         Aaron Siler  26   Male            White     March   14  2015   \n",
       "3        Aaron Valdez  25   Male  Hispanic/Latino     March   11  2015   \n",
       "4        Adam Jovicic  29   Male            White     March   19  2015   \n",
       "\n",
       "            streetaddress          city state    ...     share_hispanic  \\\n",
       "0            Clearview Ln     Millbrook    AL    ...                5.6   \n",
       "1  300 block Iris Park Dr     Pineville    LA    ...                0.5   \n",
       "2    22nd Ave and 56th St       Kenosha    WI    ...               16.8   \n",
       "3       3000 Seminole Ave    South Gate    CA    ...               98.8   \n",
       "4          364 Hiwood Ave  Munroe Falls    OH    ...                1.7   \n",
       "\n",
       "   p_income  h_income  county_income  comp_income  county_bucket  nat_bucket  \\\n",
       "0     28375     51367          54766     0.937936              3           3   \n",
       "1     14678     27972          40930     0.683411              2           1   \n",
       "2     25286     45365          54930     0.825869              2           3   \n",
       "3     17194     48295          55909     0.863814              3           3   \n",
       "4     33954     68785          49669     1.384868              5           4   \n",
       "\n",
       "    pov     urate   college  \n",
       "0  14.1  0.097686  0.168510  \n",
       "1  28.8  0.065724  0.111402  \n",
       "2  14.6  0.166293  0.147312  \n",
       "3  11.7  0.124827  0.050133  \n",
       "4   1.9  0.063550  0.403954  \n",
       "\n",
       "[5 rows x 34 columns]"
      ]
     },
     "execution_count": 38,
     "metadata": {},
     "output_type": "execute_result"
    }
   ],
   "source": [
    "# Check head and tail of the dataset\n",
    "police_killings.head()"
   ]
  },
  {
   "cell_type": "code",
   "execution_count": 39,
   "metadata": {},
   "outputs": [
    {
     "data": {
      "text/html": [
       "<div style=\"max-height:1000px;max-width:1500px;overflow:auto;\">\n",
       "<table border=\"1\" class=\"dataframe\">\n",
       "  <thead>\n",
       "    <tr style=\"text-align: right;\">\n",
       "      <th></th>\n",
       "      <th>name</th>\n",
       "      <th>age</th>\n",
       "      <th>gender</th>\n",
       "      <th>raceethnicity</th>\n",
       "      <th>month</th>\n",
       "      <th>day</th>\n",
       "      <th>year</th>\n",
       "      <th>streetaddress</th>\n",
       "      <th>city</th>\n",
       "      <th>state</th>\n",
       "      <th>...</th>\n",
       "      <th>share_hispanic</th>\n",
       "      <th>p_income</th>\n",
       "      <th>h_income</th>\n",
       "      <th>county_income</th>\n",
       "      <th>comp_income</th>\n",
       "      <th>county_bucket</th>\n",
       "      <th>nat_bucket</th>\n",
       "      <th>pov</th>\n",
       "      <th>urate</th>\n",
       "      <th>college</th>\n",
       "    </tr>\n",
       "  </thead>\n",
       "  <tbody>\n",
       "    <tr>\n",
       "      <th>462</th>\n",
       "      <td> William Chapman II</td>\n",
       "      <td> 18</td>\n",
       "      <td>   Male</td>\n",
       "      <td>           Black</td>\n",
       "      <td>    April</td>\n",
       "      <td> 22</td>\n",
       "      <td> 2015</td>\n",
       "      <td>                       1098 Frederick Blvd</td>\n",
       "      <td> Portsmouth</td>\n",
       "      <td> VA</td>\n",
       "      <td>...</td>\n",
       "      <td>    0</td>\n",
       "      <td> 25262</td>\n",
       "      <td> 27418</td>\n",
       "      <td> 46166</td>\n",
       "      <td> 0.593900</td>\n",
       "      <td> 1</td>\n",
       "      <td> 1</td>\n",
       "      <td> 35.2</td>\n",
       "      <td> 0.152047</td>\n",
       "      <td> 0.120553</td>\n",
       "    </tr>\n",
       "    <tr>\n",
       "      <th>463</th>\n",
       "      <td>   William Dick III</td>\n",
       "      <td> 28</td>\n",
       "      <td>   Male</td>\n",
       "      <td> Native American</td>\n",
       "      <td>    April</td>\n",
       "      <td>  4</td>\n",
       "      <td> 2015</td>\n",
       "      <td>            Bureau of Indian Affairs Rd 66</td>\n",
       "      <td>   Tonasket</td>\n",
       "      <td> WA</td>\n",
       "      <td>...</td>\n",
       "      <td> 20.2</td>\n",
       "      <td> 18470</td>\n",
       "      <td> 35608</td>\n",
       "      <td> 40368</td>\n",
       "      <td> 0.882085</td>\n",
       "      <td> 1</td>\n",
       "      <td> 2</td>\n",
       "      <td> 27.3</td>\n",
       "      <td> 0.133650</td>\n",
       "      <td> 0.174525</td>\n",
       "    </tr>\n",
       "    <tr>\n",
       "      <th>464</th>\n",
       "      <td>      William Poole</td>\n",
       "      <td> 52</td>\n",
       "      <td>   Male</td>\n",
       "      <td>           White</td>\n",
       "      <td>    March</td>\n",
       "      <td> 16</td>\n",
       "      <td> 2015</td>\n",
       "      <td>                            130 Wedowee Ln</td>\n",
       "      <td>     Gaston</td>\n",
       "      <td> NC</td>\n",
       "      <td>...</td>\n",
       "      <td>  0.3</td>\n",
       "      <td> 21175</td>\n",
       "      <td> 38200</td>\n",
       "      <td> 42017</td>\n",
       "      <td> 0.909156</td>\n",
       "      <td> 2</td>\n",
       "      <td> 2</td>\n",
       "      <td> 28.5</td>\n",
       "      <td> 0.256150</td>\n",
       "      <td> 0.072764</td>\n",
       "    </tr>\n",
       "    <tr>\n",
       "      <th>465</th>\n",
       "      <td>  Yuvette Henderson</td>\n",
       "      <td> 38</td>\n",
       "      <td> Female</td>\n",
       "      <td>           Black</td>\n",
       "      <td> February</td>\n",
       "      <td>  3</td>\n",
       "      <td> 2015</td>\n",
       "      <td>                            3800 Hollis St</td>\n",
       "      <td>    Oakland</td>\n",
       "      <td> CA</td>\n",
       "      <td>...</td>\n",
       "      <td> 37.1</td>\n",
       "      <td> 26971</td>\n",
       "      <td> 63052</td>\n",
       "      <td> 72112</td>\n",
       "      <td> 0.874362</td>\n",
       "      <td> 2</td>\n",
       "      <td> 4</td>\n",
       "      <td> 23.9</td>\n",
       "      <td> 0.069601</td>\n",
       "      <td> 0.396476</td>\n",
       "    </tr>\n",
       "    <tr>\n",
       "      <th>466</th>\n",
       "      <td>      Zaki Shinwary</td>\n",
       "      <td> 48</td>\n",
       "      <td>   Male</td>\n",
       "      <td>         Unknown</td>\n",
       "      <td>  January</td>\n",
       "      <td> 16</td>\n",
       "      <td> 2015</td>\n",
       "      <td> Lake Arrowhead Ave and Great Salt Lake Dr</td>\n",
       "      <td>    Fremont</td>\n",
       "      <td> CA</td>\n",
       "      <td>...</td>\n",
       "      <td> 12.3</td>\n",
       "      <td> 33590</td>\n",
       "      <td> 88940</td>\n",
       "      <td> 72112</td>\n",
       "      <td> 1.233359</td>\n",
       "      <td> 4</td>\n",
       "      <td> 5</td>\n",
       "      <td>  6.1</td>\n",
       "      <td> 0.080912</td>\n",
       "      <td> 0.435773</td>\n",
       "    </tr>\n",
       "  </tbody>\n",
       "</table>\n",
       "<p>5 rows × 34 columns</p>\n",
       "</div>"
      ],
      "text/plain": [
       "                   name age  gender    raceethnicity     month  day  year  \\\n",
       "462  William Chapman II  18    Male            Black     April   22  2015   \n",
       "463    William Dick III  28    Male  Native American     April    4  2015   \n",
       "464       William Poole  52    Male            White     March   16  2015   \n",
       "465   Yuvette Henderson  38  Female            Black  February    3  2015   \n",
       "466       Zaki Shinwary  48    Male          Unknown   January   16  2015   \n",
       "\n",
       "                                 streetaddress        city state    ...     \\\n",
       "462                        1098 Frederick Blvd  Portsmouth    VA    ...      \n",
       "463             Bureau of Indian Affairs Rd 66    Tonasket    WA    ...      \n",
       "464                             130 Wedowee Ln      Gaston    NC    ...      \n",
       "465                             3800 Hollis St     Oakland    CA    ...      \n",
       "466  Lake Arrowhead Ave and Great Salt Lake Dr     Fremont    CA    ...      \n",
       "\n",
       "     share_hispanic  p_income  h_income  county_income  comp_income  \\\n",
       "462               0     25262     27418          46166     0.593900   \n",
       "463            20.2     18470     35608          40368     0.882085   \n",
       "464             0.3     21175     38200          42017     0.909156   \n",
       "465            37.1     26971     63052          72112     0.874362   \n",
       "466            12.3     33590     88940          72112     1.233359   \n",
       "\n",
       "     county_bucket  nat_bucket   pov     urate   college  \n",
       "462              1           1  35.2  0.152047  0.120553  \n",
       "463              1           2  27.3  0.133650  0.174525  \n",
       "464              2           2  28.5  0.256150  0.072764  \n",
       "465              2           4  23.9  0.069601  0.396476  \n",
       "466              4           5   6.1  0.080912  0.435773  \n",
       "\n",
       "[5 rows x 34 columns]"
      ]
     },
     "execution_count": 39,
     "metadata": {},
     "output_type": "execute_result"
    }
   ],
   "source": [
    "police_killings.tail()"
   ]
  },
  {
   "cell_type": "code",
   "execution_count": 40,
   "metadata": {},
   "outputs": [
    {
     "name": "stdout",
     "output_type": "stream",
     "text": [
      "name 465\n",
      "age 61\n",
      "gender 2\n",
      "raceethnicity 6\n",
      "month 6\n",
      "day 31\n",
      "year 1\n",
      "streetaddress 460\n",
      "city 364\n",
      "state 47\n",
      "latitude 462\n",
      "longitude 462\n",
      "state_fp 47\n",
      "county_fp 113\n",
      "tract_ce 389\n",
      "geo_id 458\n",
      "county_id 300\n",
      "namelsad 389\n",
      "lawenforcementagency 377\n",
      "cause 5\n",
      "armed 8\n",
      "pop 445\n",
      "share_white 363\n",
      "share_black 246\n",
      "share_hispanic 293\n",
      "p_income 452\n",
      "h_income 455\n",
      "county_income 299\n",
      "comp_income 457\n",
      "county_bucket 6\n",
      "nat_bucket 6\n",
      "pov 281\n",
      "urate 457\n",
      "college 456\n"
     ]
    }
   ],
   "source": [
    "# Lets see the unique values in the dataset features.\n",
    "for column in police_killings.columns:\n",
    "    print(column, police_killings[column].unique().size)"
   ]
  },
  {
   "cell_type": "markdown",
   "metadata": {},
   "source": [
    "### Initial analysis"
   ]
  },
  {
   "cell_type": "markdown",
   "metadata": {},
   "source": [
    "1. 465 unique names : any noise in data? Same person was killed many times? or are there some names same of the civilian?\n",
    "\n",
    "2. 61 unique ages : What age group was most affected by the killings.\n",
    "\n",
    "3. 6 races were involved.\n",
    "\n",
    "4. Killings took place in 6 unique months.\n",
    "\n",
    "5. 460 unique street address, that means on some streets there where more killings are not the safest of all.\n",
    "\n",
    "6. 364 cities in which killings took place.\n",
    "\n",
    "7. Out of 50 states in the U.S., 47 had the cases of police killings.\n",
    "\n",
    "8. Which gender was killed the most?\n",
    "\n",
    "9. There were 5 causes of death.\n",
    "\n",
    "10. The deceased were armed in 8 different ways.\n",
    "\n",
    "11. Were the killings took place in densely populated area?"
   ]
  },
  {
   "cell_type": "code",
   "execution_count": 41,
   "metadata": {},
   "outputs": [
    {
     "data": {
      "text/plain": [
       "White                     236\n",
       "Black                     135\n",
       "Hispanic/Latino            67\n",
       "Unknown                    15\n",
       "Asian/Pacific Islander     10\n",
       "Native American             4\n",
       "dtype: int64"
      ]
     },
     "execution_count": 41,
     "metadata": {},
     "output_type": "execute_result"
    }
   ],
   "source": [
    "police_killings[\"raceethnicity\"].value_counts()"
   ]
  },
  {
   "cell_type": "code",
   "execution_count": 42,
   "metadata": {},
   "outputs": [
    {
     "data": {
      "image/png": "[encoded data removed]",
      "text/plain": [
       "<matplotlib.figure.Figure at 0x7fb3e84d7198>"
      ]
     },
     "metadata": {},
     "output_type": "display_data"
    }
   ],
   "source": [
    "N = 6\n",
    "index = np.arange(N)\n",
    "width = 0.35\n",
    "fig, ax = plt.subplots()\n",
    "ax.bar(index, police_killings[\"raceethnicity\"].value_counts(), width, color = \"#ead433\")\n",
    "ax.set_ylabel(\"Number of killings\")\n",
    "ax.set_xlabel(\"Ethnicity\")\n",
    "ax.set_title(\"Number of killings: Race Ethnicity\")\n",
    "ax.set_xticklabels([\"White\",\"Black\",\"Hispanic/Latino\",\"Unknown\",\"Asian/Pacific Islander\",\"Native American\"], rotation = 90)\n",
    "plt.show()\n",
    "\n"
   ]
  },
  {
   "cell_type": "code",
   "execution_count": 99,
   "metadata": {},
   "outputs": [
    {
     "data": {
      "text/plain": [
       "White                     0.505353\n",
       "Black                     0.289079\n",
       "Hispanic/Latino           0.143469\n",
       "Unknown                   0.032120\n",
       "Asian/Pacific Islander    0.021413\n",
       "Native American           0.008565\n",
       "dtype: float64"
      ]
     },
     "execution_count": 99,
     "metadata": {},
     "output_type": "execute_result"
    }
   ],
   "source": [
    "police_killings[\"raceethnicity\"].value_counts() / sum(police_killings[\"raceethnicity\"].value_counts())"
   ]
  },
  {
   "cell_type": "code",
   "execution_count": null,
   "metadata": {},
   "outputs": [],
   "source": []
  },
  {
   "cell_type": "markdown",
   "metadata": {},
   "source": [
    "Blacks are seemingly killed less than whites and given the media coverage it seems they are overrepresented as the most affected, which is false given this data. Furthermore, whites are undrepresented in this situation and Hispanics are also affected at a larger scale. ~14% is still high."
   ]
  },
  {
   "cell_type": "markdown",
   "metadata": {},
   "source": [
    "### Data Cleaning"
   ]
  },
  {
   "cell_type": "code",
   "execution_count": 43,
   "metadata": {},
   "outputs": [],
   "source": [
    "income = pd.Series()\n",
    "income = police_killings[police_killings[\"p_income\"] != '-'][\"p_income\"].astype(int)\n"
   ]
  },
  {
   "cell_type": "markdown",
   "metadata": {},
   "source": [
    "## Histogram"
   ]
  },
  {
   "cell_type": "code",
   "execution_count": 44,
   "metadata": {},
   "outputs": [
    {
     "data": {
      "text/plain": [
       "<matplotlib.axes._subplots.AxesSubplot at 0x7fb3e84d15f8>"
      ]
     },
     "execution_count": 44,
     "metadata": {},
     "output_type": "execute_result"
    },
    {
     "data": {
      "image/png": "[encoded data removed]",
      "text/plain": [
       "<matplotlib.figure.Figure at 0x7fb3e84d1320>"
      ]
     },
     "metadata": {},
     "output_type": "display_data"
    }
   ],
   "source": [
    "income.hist(bins = 50)"
   ]
  },
  {
   "cell_type": "code",
   "execution_count": 45,
   "metadata": {},
   "outputs": [
    {
     "data": {
      "text/plain": [
       "22348.0"
      ]
     },
     "execution_count": 45,
     "metadata": {},
     "output_type": "execute_result"
    }
   ],
   "source": [
    "income.median()"
   ]
  },
  {
   "cell_type": "code",
   "execution_count": 46,
   "metadata": {},
   "outputs": [
    {
     "data": {
      "image/png": "[encoded data removed]",
      "text/plain": [
       "<matplotlib.figure.Figure at 0x7fb3e84d1828>"
      ]
     },
     "metadata": {},
     "output_type": "display_data"
    }
   ],
   "source": [
    "plt.boxplot(income)\n",
    "plt.show()"
   ]
  },
  {
   "cell_type": "markdown",
   "metadata": {
    "collapsed": true
   },
   "source": [
    "There are so many outliers which are affecting the mean of the sample."
   ]
  },
  {
   "cell_type": "markdown",
   "metadata": {},
   "source": [
    "Most of the killings took place in the middle class income "
   ]
  },
  {
   "cell_type": "code",
   "execution_count": 47,
   "metadata": {},
   "outputs": [
    {
     "data": {
      "image/png": "[encoded data removed]",
      "text/plain": [
       "<matplotlib.figure.Figure at 0x7fb3e8537c50>"
      ]
     },
     "metadata": {},
     "output_type": "display_data"
    },
    {
     "data": {
      "text/plain": [
       "23387.671111111111"
      ]
     },
     "execution_count": 47,
     "metadata": {},
     "output_type": "execute_result"
    }
   ],
   "source": [
    "income_rm_outliers = income[income<43000]\n",
    "plt.boxplot(income_rm_outliers)\n",
    "plt.show()\n",
    "income_rm_outliers.mean()\n"
   ]
  },
  {
   "cell_type": "markdown",
   "metadata": {},
   "source": [
    "### Shooting by state"
   ]
  },
  {
   "cell_type": "code",
   "execution_count": 48,
   "metadata": {},
   "outputs": [],
   "source": [
    "# Get more data to verify and come to a better conclusion.\n",
    "\n",
    "state_pop = pd.read_csv('state_population.csv')\n",
    "counts = police_killings[\"state_fp\"].value_counts()\n"
   ]
  },
  {
   "cell_type": "code",
   "execution_count": 49,
   "metadata": {},
   "outputs": [
    {
     "data": {
      "text/html": [
       "<div style=\"max-height:1000px;max-width:1500px;overflow:auto;\">\n",
       "<table border=\"1\" class=\"dataframe\">\n",
       "  <thead>\n",
       "    <tr style=\"text-align: right;\">\n",
       "      <th></th>\n",
       "      <th>SUMLEV</th>\n",
       "      <th>REGION</th>\n",
       "      <th>DIVISION</th>\n",
       "      <th>STATE</th>\n",
       "      <th>NAME</th>\n",
       "      <th>POPESTIMATE2015</th>\n",
       "      <th>POPEST18PLUS2015</th>\n",
       "      <th>PCNT_POPEST18PLUS</th>\n",
       "      <th>shooting</th>\n",
       "    </tr>\n",
       "  </thead>\n",
       "  <tbody>\n",
       "    <tr>\n",
       "      <th>0</th>\n",
       "      <td> 40</td>\n",
       "      <td> 3</td>\n",
       "      <td> 6</td>\n",
       "      <td> 1</td>\n",
       "      <td>    Alabama</td>\n",
       "      <td>  4858979</td>\n",
       "      <td>  3755483</td>\n",
       "      <td> 77.3</td>\n",
       "      <td>  8</td>\n",
       "    </tr>\n",
       "    <tr>\n",
       "      <th>1</th>\n",
       "      <td> 40</td>\n",
       "      <td> 4</td>\n",
       "      <td> 9</td>\n",
       "      <td> 2</td>\n",
       "      <td>     Alaska</td>\n",
       "      <td>   738432</td>\n",
       "      <td>   552166</td>\n",
       "      <td> 74.8</td>\n",
       "      <td>  2</td>\n",
       "    </tr>\n",
       "    <tr>\n",
       "      <th>2</th>\n",
       "      <td> 40</td>\n",
       "      <td> 4</td>\n",
       "      <td> 8</td>\n",
       "      <td> 4</td>\n",
       "      <td>    Arizona</td>\n",
       "      <td>  6828065</td>\n",
       "      <td>  5205215</td>\n",
       "      <td> 76.2</td>\n",
       "      <td> 25</td>\n",
       "    </tr>\n",
       "    <tr>\n",
       "      <th>3</th>\n",
       "      <td> 40</td>\n",
       "      <td> 3</td>\n",
       "      <td> 7</td>\n",
       "      <td> 5</td>\n",
       "      <td>   Arkansas</td>\n",
       "      <td>  2978204</td>\n",
       "      <td>  2272904</td>\n",
       "      <td> 76.3</td>\n",
       "      <td>  4</td>\n",
       "    </tr>\n",
       "    <tr>\n",
       "      <th>4</th>\n",
       "      <td> 40</td>\n",
       "      <td> 4</td>\n",
       "      <td> 9</td>\n",
       "      <td> 6</td>\n",
       "      <td> California</td>\n",
       "      <td> 39144818</td>\n",
       "      <td> 30023902</td>\n",
       "      <td> 76.7</td>\n",
       "      <td> 74</td>\n",
       "    </tr>\n",
       "  </tbody>\n",
       "</table>\n",
       "</div>"
      ],
      "text/plain": [
       "   SUMLEV REGION DIVISION  STATE        NAME  POPESTIMATE2015  \\\n",
       "0      40      3        6      1     Alabama          4858979   \n",
       "1      40      4        9      2      Alaska           738432   \n",
       "2      40      4        8      4     Arizona          6828065   \n",
       "3      40      3        7      5    Arkansas          2978204   \n",
       "4      40      4        9      6  California         39144818   \n",
       "\n",
       "   POPEST18PLUS2015  PCNT_POPEST18PLUS  shooting  \n",
       "0           3755483               77.3         8  \n",
       "1            552166               74.8         2  \n",
       "2           5205215               76.2        25  \n",
       "3           2272904               76.3         4  \n",
       "4          30023902               76.7        74  "
      ]
     },
     "execution_count": 49,
     "metadata": {},
     "output_type": "execute_result"
    }
   ],
   "source": [
    "states = pd.DataFrame({\"STATE\": counts.index, \"shooting\": counts})\n",
    "states = state_pop.merge(states, on = \"STATE\")\n",
    "states.head()"
   ]
  },
  {
   "cell_type": "code",
   "execution_count": 50,
   "metadata": {},
   "outputs": [
    {
     "data": {
      "text/html": [
       "<div style=\"max-height:1000px;max-width:1500px;overflow:auto;\">\n",
       "<table border=\"1\" class=\"dataframe\">\n",
       "  <thead>\n",
       "    <tr style=\"text-align: right;\">\n",
       "      <th></th>\n",
       "      <th>SUMLEV</th>\n",
       "      <th>REGION</th>\n",
       "      <th>DIVISION</th>\n",
       "      <th>STATE</th>\n",
       "      <th>NAME</th>\n",
       "      <th>POPESTIMATE2015</th>\n",
       "      <th>POPEST18PLUS2015</th>\n",
       "      <th>PCNT_POPEST18PLUS</th>\n",
       "      <th>shooting</th>\n",
       "      <th>pop_millions</th>\n",
       "    </tr>\n",
       "  </thead>\n",
       "  <tbody>\n",
       "    <tr>\n",
       "      <th>0</th>\n",
       "      <td> 40</td>\n",
       "      <td> 3</td>\n",
       "      <td> 6</td>\n",
       "      <td> 1</td>\n",
       "      <td>    Alabama</td>\n",
       "      <td>  4858979</td>\n",
       "      <td>  3755483</td>\n",
       "      <td> 77.3</td>\n",
       "      <td>  8</td>\n",
       "      <td>  4.858979</td>\n",
       "    </tr>\n",
       "    <tr>\n",
       "      <th>1</th>\n",
       "      <td> 40</td>\n",
       "      <td> 4</td>\n",
       "      <td> 9</td>\n",
       "      <td> 2</td>\n",
       "      <td>     Alaska</td>\n",
       "      <td>   738432</td>\n",
       "      <td>   552166</td>\n",
       "      <td> 74.8</td>\n",
       "      <td>  2</td>\n",
       "      <td>  0.738432</td>\n",
       "    </tr>\n",
       "    <tr>\n",
       "      <th>2</th>\n",
       "      <td> 40</td>\n",
       "      <td> 4</td>\n",
       "      <td> 8</td>\n",
       "      <td> 4</td>\n",
       "      <td>    Arizona</td>\n",
       "      <td>  6828065</td>\n",
       "      <td>  5205215</td>\n",
       "      <td> 76.2</td>\n",
       "      <td> 25</td>\n",
       "      <td>  6.828065</td>\n",
       "    </tr>\n",
       "    <tr>\n",
       "      <th>3</th>\n",
       "      <td> 40</td>\n",
       "      <td> 3</td>\n",
       "      <td> 7</td>\n",
       "      <td> 5</td>\n",
       "      <td>   Arkansas</td>\n",
       "      <td>  2978204</td>\n",
       "      <td>  2272904</td>\n",
       "      <td> 76.3</td>\n",
       "      <td>  4</td>\n",
       "      <td>  2.978204</td>\n",
       "    </tr>\n",
       "    <tr>\n",
       "      <th>4</th>\n",
       "      <td> 40</td>\n",
       "      <td> 4</td>\n",
       "      <td> 9</td>\n",
       "      <td> 6</td>\n",
       "      <td> California</td>\n",
       "      <td> 39144818</td>\n",
       "      <td> 30023902</td>\n",
       "      <td> 76.7</td>\n",
       "      <td> 74</td>\n",
       "      <td> 39.144818</td>\n",
       "    </tr>\n",
       "  </tbody>\n",
       "</table>\n",
       "</div>"
      ],
      "text/plain": [
       "   SUMLEV REGION DIVISION  STATE        NAME  POPESTIMATE2015  \\\n",
       "0      40      3        6      1     Alabama          4858979   \n",
       "1      40      4        9      2      Alaska           738432   \n",
       "2      40      4        8      4     Arizona          6828065   \n",
       "3      40      3        7      5    Arkansas          2978204   \n",
       "4      40      4        9      6  California         39144818   \n",
       "\n",
       "   POPEST18PLUS2015  PCNT_POPEST18PLUS  shooting  pop_millions  \n",
       "0           3755483               77.3         8      4.858979  \n",
       "1            552166               74.8         2      0.738432  \n",
       "2           5205215               76.2        25      6.828065  \n",
       "3           2272904               76.3         4      2.978204  \n",
       "4          30023902               76.7        74     39.144818  "
      ]
     },
     "execution_count": 50,
     "metadata": {},
     "output_type": "execute_result"
    }
   ],
   "source": [
    "states[\"pop_millions\"] = states[\"POPESTIMATE2015\"] /1000000\n",
    "states.head()"
   ]
  },
  {
   "cell_type": "code",
   "execution_count": 51,
   "metadata": {},
   "outputs": [
    {
     "data": {
      "text/html": [
       "<div style=\"max-height:1000px;max-width:1500px;overflow:auto;\">\n",
       "<table border=\"1\" class=\"dataframe\">\n",
       "  <thead>\n",
       "    <tr style=\"text-align: right;\">\n",
       "      <th></th>\n",
       "      <th>NAME</th>\n",
       "      <th>shooting</th>\n",
       "    </tr>\n",
       "  </thead>\n",
       "  <tbody>\n",
       "    <tr>\n",
       "      <th>4 </th>\n",
       "      <td> California</td>\n",
       "      <td> 74</td>\n",
       "    </tr>\n",
       "    <tr>\n",
       "      <th>40</th>\n",
       "      <td>      Texas</td>\n",
       "      <td> 47</td>\n",
       "    </tr>\n",
       "    <tr>\n",
       "      <th>9 </th>\n",
       "      <td>    Florida</td>\n",
       "      <td> 29</td>\n",
       "    </tr>\n",
       "    <tr>\n",
       "      <th>2 </th>\n",
       "      <td>    Arizona</td>\n",
       "      <td> 25</td>\n",
       "    </tr>\n",
       "    <tr>\n",
       "      <th>35</th>\n",
       "      <td>   Oklahoma</td>\n",
       "      <td> 22</td>\n",
       "    </tr>\n",
       "  </tbody>\n",
       "</table>\n",
       "</div>"
      ],
      "text/plain": [
       "          NAME  shooting\n",
       "4   California        74\n",
       "40       Texas        47\n",
       "9      Florida        29\n",
       "2      Arizona        25\n",
       "35    Oklahoma        22"
      ]
     },
     "execution_count": 51,
     "metadata": {},
     "output_type": "execute_result"
    }
   ],
   "source": [
    "# States with most number of shooting\n",
    "states.sort(['shooting'] , ascending = False).head()[[\"NAME\",\"shooting\"]]"
   ]
  },
  {
   "cell_type": "code",
   "execution_count": 52,
   "metadata": {},
   "outputs": [
    {
     "data": {
      "text/html": [
       "<div style=\"max-height:1000px;max-width:1500px;overflow:auto;\">\n",
       "<table border=\"1\" class=\"dataframe\">\n",
       "  <thead>\n",
       "    <tr style=\"text-align: right;\">\n",
       "      <th></th>\n",
       "      <th>NAME</th>\n",
       "      <th>shooting</th>\n",
       "    </tr>\n",
       "  </thead>\n",
       "  <tbody>\n",
       "    <tr>\n",
       "      <th>46</th>\n",
       "      <td>              Wyoming</td>\n",
       "      <td> 1</td>\n",
       "    </tr>\n",
       "    <tr>\n",
       "      <th>19</th>\n",
       "      <td>                Maine</td>\n",
       "      <td> 1</td>\n",
       "    </tr>\n",
       "    <tr>\n",
       "      <th>8 </th>\n",
       "      <td> District of Columbia</td>\n",
       "      <td> 1</td>\n",
       "    </tr>\n",
       "    <tr>\n",
       "      <th>6 </th>\n",
       "      <td>          Connecticut</td>\n",
       "      <td> 1</td>\n",
       "    </tr>\n",
       "    <tr>\n",
       "      <th>29</th>\n",
       "      <td>        New Hampshire</td>\n",
       "      <td> 1</td>\n",
       "    </tr>\n",
       "  </tbody>\n",
       "</table>\n",
       "</div>"
      ],
      "text/plain": [
       "                    NAME  shooting\n",
       "46               Wyoming         1\n",
       "19                 Maine         1\n",
       "8   District of Columbia         1\n",
       "6            Connecticut         1\n",
       "29         New Hampshire         1"
      ]
     },
     "execution_count": 52,
     "metadata": {},
     "output_type": "execute_result"
    }
   ],
   "source": [
    "# States with least number of shooting\n",
    "states.sort(['shooting'] , ascending = True).head()[[\"NAME\",\"shooting\"]]"
   ]
  },
  {
   "cell_type": "code",
   "execution_count": 53,
   "metadata": {},
   "outputs": [
    {
     "data": {
      "text/html": [
       "<div style=\"max-height:1000px;max-width:1500px;overflow:auto;\">\n",
       "<table border=\"1\" class=\"dataframe\">\n",
       "  <thead>\n",
       "    <tr style=\"text-align: right;\">\n",
       "      <th></th>\n",
       "      <th>SUMLEV</th>\n",
       "      <th>REGION</th>\n",
       "      <th>DIVISION</th>\n",
       "      <th>STATE</th>\n",
       "      <th>NAME</th>\n",
       "      <th>POPESTIMATE2015</th>\n",
       "      <th>POPEST18PLUS2015</th>\n",
       "      <th>PCNT_POPEST18PLUS</th>\n",
       "      <th>shooting</th>\n",
       "      <th>pop_millions</th>\n",
       "      <th>rate</th>\n",
       "    </tr>\n",
       "  </thead>\n",
       "  <tbody>\n",
       "    <tr>\n",
       "      <th>0</th>\n",
       "      <td> 40</td>\n",
       "      <td> 3</td>\n",
       "      <td> 6</td>\n",
       "      <td> 1</td>\n",
       "      <td>    Alabama</td>\n",
       "      <td>  4858979</td>\n",
       "      <td>  3755483</td>\n",
       "      <td> 77.3</td>\n",
       "      <td>  8</td>\n",
       "      <td>  4.858979</td>\n",
       "      <td> 1.646436</td>\n",
       "    </tr>\n",
       "    <tr>\n",
       "      <th>1</th>\n",
       "      <td> 40</td>\n",
       "      <td> 4</td>\n",
       "      <td> 9</td>\n",
       "      <td> 2</td>\n",
       "      <td>     Alaska</td>\n",
       "      <td>   738432</td>\n",
       "      <td>   552166</td>\n",
       "      <td> 74.8</td>\n",
       "      <td>  2</td>\n",
       "      <td>  0.738432</td>\n",
       "      <td> 2.708442</td>\n",
       "    </tr>\n",
       "    <tr>\n",
       "      <th>2</th>\n",
       "      <td> 40</td>\n",
       "      <td> 4</td>\n",
       "      <td> 8</td>\n",
       "      <td> 4</td>\n",
       "      <td>    Arizona</td>\n",
       "      <td>  6828065</td>\n",
       "      <td>  5205215</td>\n",
       "      <td> 76.2</td>\n",
       "      <td> 25</td>\n",
       "      <td>  6.828065</td>\n",
       "      <td> 3.661359</td>\n",
       "    </tr>\n",
       "    <tr>\n",
       "      <th>3</th>\n",
       "      <td> 40</td>\n",
       "      <td> 3</td>\n",
       "      <td> 7</td>\n",
       "      <td> 5</td>\n",
       "      <td>   Arkansas</td>\n",
       "      <td>  2978204</td>\n",
       "      <td>  2272904</td>\n",
       "      <td> 76.3</td>\n",
       "      <td>  4</td>\n",
       "      <td>  2.978204</td>\n",
       "      <td> 1.343091</td>\n",
       "    </tr>\n",
       "    <tr>\n",
       "      <th>4</th>\n",
       "      <td> 40</td>\n",
       "      <td> 4</td>\n",
       "      <td> 9</td>\n",
       "      <td> 6</td>\n",
       "      <td> California</td>\n",
       "      <td> 39144818</td>\n",
       "      <td> 30023902</td>\n",
       "      <td> 76.7</td>\n",
       "      <td> 74</td>\n",
       "      <td> 39.144818</td>\n",
       "      <td> 1.890416</td>\n",
       "    </tr>\n",
       "  </tbody>\n",
       "</table>\n",
       "</div>"
      ],
      "text/plain": [
       "   SUMLEV REGION DIVISION  STATE        NAME  POPESTIMATE2015  \\\n",
       "0      40      3        6      1     Alabama          4858979   \n",
       "1      40      4        9      2      Alaska           738432   \n",
       "2      40      4        8      4     Arizona          6828065   \n",
       "3      40      3        7      5    Arkansas          2978204   \n",
       "4      40      4        9      6  California         39144818   \n",
       "\n",
       "   POPEST18PLUS2015  PCNT_POPEST18PLUS  shooting  pop_millions      rate  \n",
       "0           3755483               77.3         8      4.858979  1.646436  \n",
       "1            552166               74.8         2      0.738432  2.708442  \n",
       "2           5205215               76.2        25      6.828065  3.661359  \n",
       "3           2272904               76.3         4      2.978204  1.343091  \n",
       "4          30023902               76.7        74     39.144818  1.890416  "
      ]
     },
     "execution_count": 53,
     "metadata": {},
     "output_type": "execute_result"
    }
   ],
   "source": [
    "# Rate of killings\n",
    "\n",
    "states[\"rate\"] = states[\"shooting\"]/states[\"pop_millions\"]\n",
    "states.head()"
   ]
  },
  {
   "cell_type": "code",
   "execution_count": 54,
   "metadata": {},
   "outputs": [
    {
     "data": {
      "text/html": [
       "<div style=\"max-height:1000px;max-width:1500px;overflow:auto;\">\n",
       "<table border=\"1\" class=\"dataframe\">\n",
       "  <thead>\n",
       "    <tr style=\"text-align: right;\">\n",
       "      <th></th>\n",
       "      <th>NAME</th>\n",
       "      <th>rate</th>\n",
       "    </tr>\n",
       "  </thead>\n",
       "  <tbody>\n",
       "    <tr>\n",
       "      <th>35</th>\n",
       "      <td>   Oklahoma</td>\n",
       "      <td> 5.624674</td>\n",
       "    </tr>\n",
       "    <tr>\n",
       "      <th>2 </th>\n",
       "      <td>    Arizona</td>\n",
       "      <td> 3.661359</td>\n",
       "    </tr>\n",
       "    <tr>\n",
       "      <th>27</th>\n",
       "      <td>   Nebraska</td>\n",
       "      <td> 3.164240</td>\n",
       "    </tr>\n",
       "    <tr>\n",
       "      <th>11</th>\n",
       "      <td>     Hawaii</td>\n",
       "      <td> 2.794071</td>\n",
       "    </tr>\n",
       "    <tr>\n",
       "      <th>1 </th>\n",
       "      <td>     Alaska</td>\n",
       "      <td> 2.708442</td>\n",
       "    </tr>\n",
       "    <tr>\n",
       "      <th>12</th>\n",
       "      <td>      Idaho</td>\n",
       "      <td> 2.417021</td>\n",
       "    </tr>\n",
       "    <tr>\n",
       "      <th>31</th>\n",
       "      <td> New Mexico</td>\n",
       "      <td> 2.397956</td>\n",
       "    </tr>\n",
       "    <tr>\n",
       "      <th>18</th>\n",
       "      <td>  Louisiana</td>\n",
       "      <td> 2.355095</td>\n",
       "    </tr>\n",
       "    <tr>\n",
       "      <th>5 </th>\n",
       "      <td>   Colorado</td>\n",
       "      <td> 2.199182</td>\n",
       "    </tr>\n",
       "    <tr>\n",
       "      <th>7 </th>\n",
       "      <td>   Delaware</td>\n",
       "      <td> 2.114312</td>\n",
       "    </tr>\n",
       "  </tbody>\n",
       "</table>\n",
       "</div>"
      ],
      "text/plain": [
       "          NAME      rate\n",
       "35    Oklahoma  5.624674\n",
       "2      Arizona  3.661359\n",
       "27    Nebraska  3.164240\n",
       "11      Hawaii  2.794071\n",
       "1       Alaska  2.708442\n",
       "12       Idaho  2.417021\n",
       "31  New Mexico  2.397956\n",
       "18   Louisiana  2.355095\n",
       "5     Colorado  2.199182\n",
       "7     Delaware  2.114312"
      ]
     },
     "execution_count": 54,
     "metadata": {},
     "output_type": "execute_result"
    }
   ],
   "source": [
    "# States with highest rate of shooting\n",
    "states.sort(['rate'] , ascending = False).head(10)[[\"NAME\",\"rate\"]]"
   ]
  },
  {
   "cell_type": "markdown",
   "metadata": {},
   "source": [
    "It appears that Oklahoma has the highest rate of shooting by police. 5.63 per million."
   ]
  },
  {
   "cell_type": "code",
   "execution_count": 55,
   "metadata": {},
   "outputs": [
    {
     "data": {
      "text/html": [
       "<div style=\"max-height:1000px;max-width:1500px;overflow:auto;\">\n",
       "<table border=\"1\" class=\"dataframe\">\n",
       "  <thead>\n",
       "    <tr style=\"text-align: right;\">\n",
       "      <th></th>\n",
       "      <th>NAME</th>\n",
       "      <th>rate</th>\n",
       "    </tr>\n",
       "  </thead>\n",
       "  <tbody>\n",
       "    <tr>\n",
       "      <th>6 </th>\n",
       "      <td>   Connecticut</td>\n",
       "      <td> 0.278483</td>\n",
       "    </tr>\n",
       "    <tr>\n",
       "      <th>37</th>\n",
       "      <td>  Pennsylvania</td>\n",
       "      <td> 0.546768</td>\n",
       "    </tr>\n",
       "    <tr>\n",
       "      <th>15</th>\n",
       "      <td>          Iowa</td>\n",
       "      <td> 0.640226</td>\n",
       "    </tr>\n",
       "    <tr>\n",
       "      <th>32</th>\n",
       "      <td>      New York</td>\n",
       "      <td> 0.656705</td>\n",
       "    </tr>\n",
       "    <tr>\n",
       "      <th>21</th>\n",
       "      <td> Massachusetts</td>\n",
       "      <td> 0.735898</td>\n",
       "    </tr>\n",
       "    <tr>\n",
       "      <th>29</th>\n",
       "      <td> New Hampshire</td>\n",
       "      <td> 0.751536</td>\n",
       "    </tr>\n",
       "    <tr>\n",
       "      <th>19</th>\n",
       "      <td>         Maine</td>\n",
       "      <td> 0.752260</td>\n",
       "    </tr>\n",
       "    <tr>\n",
       "      <th>13</th>\n",
       "      <td>      Illinois</td>\n",
       "      <td> 0.855366</td>\n",
       "    </tr>\n",
       "    <tr>\n",
       "      <th>34</th>\n",
       "      <td>          Ohio</td>\n",
       "      <td> 0.861073</td>\n",
       "    </tr>\n",
       "    <tr>\n",
       "      <th>45</th>\n",
       "      <td>     Wisconsin</td>\n",
       "      <td> 0.866350</td>\n",
       "    </tr>\n",
       "  </tbody>\n",
       "</table>\n",
       "</div>"
      ],
      "text/plain": [
       "             NAME      rate\n",
       "6     Connecticut  0.278483\n",
       "37   Pennsylvania  0.546768\n",
       "15           Iowa  0.640226\n",
       "32       New York  0.656705\n",
       "21  Massachusetts  0.735898\n",
       "29  New Hampshire  0.751536\n",
       "19          Maine  0.752260\n",
       "13       Illinois  0.855366\n",
       "34           Ohio  0.861073\n",
       "45      Wisconsin  0.866350"
      ]
     },
     "execution_count": 55,
     "metadata": {},
     "output_type": "execute_result"
    }
   ],
   "source": [
    "states.sort(['rate'] , ascending = True).head(10)[[\"NAME\",\"rate\"]]"
   ]
  },
  {
   "cell_type": "markdown",
   "metadata": {},
   "source": [
    "And Connecticut appears to be the state with least police killing rates"
   ]
  },
  {
   "cell_type": "markdown",
   "metadata": {
    "collapsed": true
   },
   "source": [
    "### State by state differences"
   ]
  },
  {
   "cell_type": "markdown",
   "metadata": {},
   "source": [
    "Why do some states have a much higher rate of police killings than others? Is it due to random chance, or is there an underlying factor that could explain it?"
   ]
  },
  {
   "cell_type": "code",
   "execution_count": 56,
   "metadata": {},
   "outputs": [],
   "source": [
    "state_highest = [\"OK\", \"AZ\",\"NE\",\"HI\",\"AK\",\"ID\",\"NM\",\"LA\",\"CO\",\"DE\"]\n",
    "state_lowest = [\"CT\",\"PA\",\"IA\",\"NY\",\"MA\",\"NH\",\"ME\",\"IL\",\"OH\",\"WI\"]"
   ]
  },
  {
   "cell_type": "code",
   "execution_count": 81,
   "metadata": {},
   "outputs": [],
   "source": [
    "pk = police_killings[police_killings.share_black != '-']\n",
    "pk = police_killings[police_killings.share_white != '-']\n",
    "pk = police_killings[police_killings.share_hispanic != '-']"
   ]
  },
  {
   "cell_type": "code",
   "execution_count": 93,
   "metadata": {},
   "outputs": [
    {
     "name": "stderr",
     "output_type": "stream",
     "text": [
      "/opt/dsserver/lib/python3.4/site-packages/ipykernel/__main__.py:2: SettingWithCopyWarning: \n",
      "A value is trying to be set on a copy of a slice from a DataFrame.\n",
      "Try using .loc[row_indexer,col_indexer] = value instead\n",
      "\n",
      "See the the caveats in the documentation: http://pandas.pydata.org/pandas-docs/stable/indexing.html#indexing-view-versus-copy\n",
      "  from ipykernel import kernelapp as app\n"
     ]
    }
   ],
   "source": [
    "for c in [\"share_white\",\"share_black\",\"share_hispanic\"]: \n",
    "    pk[c]= pk[c].astype(float)"
   ]
  },
  {
   "cell_type": "code",
   "execution_count": 94,
   "metadata": {},
   "outputs": [],
   "source": [
    "pk_sh = pk[pk[\"state\"].isin(state_highest)]\n",
    "pk_sl = pk[pk[\"state\"].isin(state_lowest)]\n"
   ]
  },
  {
   "cell_type": "code",
   "execution_count": 97,
   "metadata": {},
   "outputs": [
    {
     "data": {
      "text/plain": [
       "pop                4315.750000\n",
       "share_white          55.652174\n",
       "share_black          11.532609\n",
       "share_hispanic       20.693478\n",
       "county_income     48706.967391\n",
       "dtype: float64"
      ]
     },
     "execution_count": 97,
     "metadata": {},
     "output_type": "execute_result"
    }
   ],
   "source": [
    "pk_sh[[\"pop\",\"share_white\",\"share_black\",\"share_hispanic\",\"county_income\"]].mean()"
   ]
  },
  {
   "cell_type": "code",
   "execution_count": 98,
   "metadata": {},
   "outputs": [
    {
     "data": {
      "text/plain": [
       "pop                4201.660714\n",
       "share_white          60.616071\n",
       "share_black          21.257143\n",
       "share_hispanic       12.948214\n",
       "county_income     54830.839286\n",
       "dtype: float64"
      ]
     },
     "execution_count": 98,
     "metadata": {},
     "output_type": "execute_result"
    }
   ],
   "source": [
    "pk_sl[[\"pop\",\"share_white\",\"share_black\",\"share_hispanic\",\"county_income\"]].mean()"
   ]
  },
  {
   "cell_type": "markdown",
   "metadata": {},
   "source": [
    "A black person is more likely to be killed in a less dense area at a state with low shooting rate. A white person is more likely to be shot in a state with high shooting rate. A person who belongs in a high income group tends to live in a place with low shooting rate and vice versa. "
   ]
  }
 ],
 "metadata": {
  "kernelspec": {
   "display_name": "Python 3",
   "language": "python",
   "name": "python3"
  },
  "language_info": {
   "codemirror_mode": {
    "name": "ipython",
    "version": 3
   },
   "file_extension": ".py",
   "mimetype": "text/x-python",
   "name": "python",
   "nbconvert_exporter": "python",
   "pygments_lexer": "ipython3",
   "version": "3.7.0"
  }
 },
 "nbformat": 4,
 "nbformat_minor": 1
}
